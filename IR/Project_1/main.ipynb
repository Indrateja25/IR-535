{
 "cells": [
  {
   "cell_type": "markdown",
   "id": "91322ee5",
   "metadata": {},
   "source": [
    "### Imports & Config"
   ]
  },
  {
   "cell_type": "code",
   "execution_count": 21,
   "id": "3b0888e6",
   "metadata": {
    "ExecuteTime": {
     "end_time": "2023-09-28T04:12:41.344599Z",
     "start_time": "2023-09-28T04:12:41.337407Z"
    }
   },
   "outputs": [],
   "source": [
    "import wikipedia\n",
    "import pysolr\n",
    "import os\n",
    "import numpy as np\n",
    "import pandas as pd\n",
    "import requests\n",
    "import re"
   ]
  },
  {
   "cell_type": "code",
   "execution_count": 5,
   "id": "f810fb1e",
   "metadata": {
    "ExecuteTime": {
     "end_time": "2023-09-28T04:07:19.143500Z",
     "start_time": "2023-09-28T04:07:19.137589Z"
    }
   },
   "outputs": [],
   "source": [
    "search_topics = ['Health', 'Environment', 'Technology', 'Economy', 'Entertainment',\n",
    "                 'Sports', 'Politics', 'Education', 'Travel', 'Food']"
   ]
  },
  {
   "cell_type": "markdown",
   "id": "ee57ef4c",
   "metadata": {},
   "source": [
    "core create cmd : \n",
    "core delete cmd : sudo -u solr ./solr-9.0.0/bin/solr create -c \"wikipedia\""
   ]
  },
  {
   "cell_type": "markdown",
   "id": "cf7d7118",
   "metadata": {},
   "source": [
    "help(admin.create)\n",
    "\n",
    "admin = pysolr.SolrCoreAdmin(url+'admin/cores')\n",
    "admin.create_with_configset(\n",
    "    core_name,\n",
    "    config= f'{url}/{core_name}/conf',\n",
    "    schema= f'{url}/{core_name}/schema',\n",
    "    dataDir= f'{url}/{core_name}/data',\n",
    ")"
   ]
  },
  {
   "cell_type": "code",
   "execution_count": 3,
   "id": "ce4854ca",
   "metadata": {
    "ExecuteTime": {
     "end_time": "2023-09-26T01:32:10.166250Z",
     "start_time": "2023-09-26T01:32:10.160125Z"
    }
   },
   "outputs": [],
   "source": [
    "topic = 'Health'\n",
    "min_documents = 510\n",
    "max_short_summaries = min_documents*0.05\n",
    "core_name = 'wikipedia'\n",
    "url = 'http://35.188.149.137:8983/solr/'"
   ]
  },
  {
   "cell_type": "markdown",
   "id": "ad985861",
   "metadata": {},
   "source": [
    "### Scraping"
   ]
  },
  {
   "cell_type": "code",
   "execution_count": 4,
   "id": "1df32d03",
   "metadata": {
    "ExecuteTime": {
     "end_time": "2023-09-26T01:32:10.934259Z",
     "start_time": "2023-09-26T01:32:10.927555Z"
    }
   },
   "outputs": [],
   "source": [
    "def check_page_validity(page,csr):\n",
    "    page_content = wikipedia.page(page, auto_suggest=False,redirect=True, preload=False)\n",
    "    page_summary = page_content.summary\n",
    "\n",
    "    if(len(page_summary) >= 200):\n",
    "        return 2\n",
    "    if(len(page_summary) < 200 and csr <=  max_short_summaries):\n",
    "        return 1\n",
    "    return 0"
   ]
  },
  {
   "cell_type": "code",
   "execution_count": 5,
   "id": "e4024836",
   "metadata": {
    "ExecuteTime": {
     "end_time": "2023-09-26T01:32:11.849898Z",
     "start_time": "2023-09-26T01:32:11.842790Z"
    }
   },
   "outputs": [],
   "source": [
    "def scrape_helper(page_titles, topic):\n",
    "    topic_docs_json = []\n",
    "    \n",
    "    for page_title in page_titles:\n",
    "        page_content = wikipedia.page(page_title, auto_suggest=False,redirect=True, preload=False)    \n",
    "        topic_docs_json.append(\n",
    "            {\n",
    "            'revision_id':page_content.revision_id,\n",
    "            'title': page_content.title,\n",
    "            'summary':page_content.summary,\n",
    "            'url': page_content.url,\n",
    "            'topic':topic\n",
    "            }\n",
    "        )\n",
    "    return topic_docs_json"
   ]
  },
  {
   "cell_type": "code",
   "execution_count": 6,
   "id": "02399159",
   "metadata": {
    "ExecuteTime": {
     "end_time": "2023-09-26T01:32:12.546710Z",
     "start_time": "2023-09-26T01:32:12.533766Z"
    }
   },
   "outputs": [],
   "source": [
    "def scrape_topic_wikipedia(topic,min_documents):\n",
    "    subtopic_page_titles = set()\n",
    "    count_short_sumaries = 0\n",
    "    \n",
    "    \n",
    "    subtopic_searches = wikipedia.search(topic,min_documents)  \n",
    "    for subtopic in subtopic_searches:\n",
    "        try:\n",
    "            subtopic_content = wikipedia.page(subtopic, auto_suggest=False,redirect=True, preload=False)\n",
    "            subtopic_page_links = subtopic_content.links\n",
    "            if(len(subtopic_page_titles) >= min_documents):\n",
    "                    break\n",
    "            for page in subtopic_page_links:\n",
    "                if(len(subtopic_page_titles) >= min_documents):\n",
    "                    break\n",
    "                val = check_page_validity(page,count_short_sumaries)\n",
    "                if(val > 0):\n",
    "                    subtopic_page_titles.add(page)\n",
    "                    if(val == 1):\n",
    "                        count_short_sumaries += 1\n",
    "                l = len(subtopic_page_titles)\n",
    "                if(l % 20 == 0):\n",
    "                    print(\"subtopics finding completed : \",round(100*l/min_documents,2),\"%\")\n",
    "        except Exception as e:\n",
    "            #print(e)\n",
    "            1+1\n",
    "            \n",
    "    print(\"scraping individual pages..\")\n",
    "    page_titles = list(subtopic_page_titles)[:min_documents]\n",
    "    scraped_data = scrape_helper(page_titles,topic)\n",
    "    \n",
    "    return scraped_data"
   ]
  },
  {
   "cell_type": "code",
   "execution_count": null,
   "id": "80ee24aa",
   "metadata": {
    "ExecuteTime": {
     "end_time": "2023-09-26T00:30:17.453802Z",
     "start_time": "2023-09-26T00:29:55.780989Z"
    }
   },
   "outputs": [],
   "source": [
    "scrape_topic_wikipedia(topic,10)"
   ]
  },
  {
   "cell_type": "code",
   "execution_count": null,
   "id": "734350e5",
   "metadata": {},
   "outputs": [],
   "source": [
    "for topic in search_topics:\n",
    "    scrape_topic_wikipedia(topic,10)"
   ]
  },
  {
   "cell_type": "code",
   "execution_count": null,
   "id": "1ab5895e",
   "metadata": {},
   "outputs": [],
   "source": []
  },
  {
   "cell_type": "markdown",
   "id": "5718f24f",
   "metadata": {},
   "source": [
    "### Preprocessing"
   ]
  },
  {
   "cell_type": "code",
   "execution_count": 7,
   "id": "d397d804",
   "metadata": {
    "ExecuteTime": {
     "end_time": "2023-09-26T01:32:16.038096Z",
     "start_time": "2023-09-26T01:32:16.034826Z"
    }
   },
   "outputs": [],
   "source": [
    "def preprocess_summary(df,column):\n",
    "    df[column] = df[column].replace(r\"[^\\w\\s]\", \"\", regex=True)\n",
    "    return df"
   ]
  },
  {
   "cell_type": "markdown",
   "id": "72472d28",
   "metadata": {},
   "source": [
    "### Indexing"
   ]
  },
  {
   "cell_type": "code",
   "execution_count": 8,
   "id": "f60d78d4",
   "metadata": {
    "ExecuteTime": {
     "end_time": "2023-09-26T01:32:16.915008Z",
     "start_time": "2023-09-26T01:32:16.906869Z"
    }
   },
   "outputs": [],
   "source": [
    "def get_schema():\n",
    "    schema = {\n",
    "            \"add-field\": [\n",
    "                {\n",
    "                    \"name\": \"revision_id\",\n",
    "                    \"type\": \"string\",\n",
    "                    \"indexed\": True,\n",
    "                    \"multiValued\": False\n",
    "                },\n",
    "                {\n",
    "                    \"name\": \"title\",\n",
    "                    \"type\": \"string\",\n",
    "                    \"indexed\": True,\n",
    "                    \"multiValued\": False\n",
    "                },\n",
    "                {\n",
    "                    \"name\": \"summary\",\n",
    "                    \"type\": \"string\",\n",
    "                    \"indexed\": True,\n",
    "                    \"multiValued\": False\n",
    "                },\n",
    "                {\n",
    "                    \"name\": \"url\",\n",
    "                    \"type\": \"string\",\n",
    "                    \"indexed\": False,\n",
    "                    \"multiValued\": False\n",
    "                },\n",
    "                {\n",
    "                    \"name\": \"topic\",\n",
    "                    \"type\": \"string\",\n",
    "                    \"indexed\": True,\n",
    "                    \"multiValued\": False\n",
    "                },\n",
    "            ]\n",
    "        }\n",
    "    \n",
    "    return schema"
   ]
  },
  {
   "cell_type": "code",
   "execution_count": 9,
   "id": "e7fb7f31",
   "metadata": {
    "ExecuteTime": {
     "end_time": "2023-09-26T01:32:17.907106Z",
     "start_time": "2023-09-26T01:32:17.900093Z"
    }
   },
   "outputs": [],
   "source": [
    "def delete_core(core_name):\n",
    "    print(os.system('sudo -u solr ./solr-9.0.0/bin/solr create -c {core}'.format(core=core_name)))\n",
    "\n",
    "\n",
    "def create_core(core_name):\n",
    "    print(os.system('sudo -u solr ./solr-9.0.0/bin/solr create -c {core} -n data_driven_schema_configs\"'.format(\n",
    "            core=core_name)))"
   ]
  },
  {
   "cell_type": "code",
   "execution_count": 24,
   "id": "2dae1e41",
   "metadata": {
    "ExecuteTime": {
     "end_time": "2023-09-26T01:43:50.690053Z",
     "start_time": "2023-09-26T01:43:50.680996Z"
    }
   },
   "outputs": [],
   "source": [
    "def set_config():\n",
    "    delete_core(core_name)\n",
    "    create_core(core_name)\n",
    "\n",
    "    solr = pysolr.Solr(url+core_name, always_commit=True, timeout=10)\n",
    "    schema = get_schema()\n",
    "    requests.post(url+core_name + \"/schema\", json=schema).json()\n",
    "    return solr"
   ]
  },
  {
   "cell_type": "markdown",
   "id": "ff214b79",
   "metadata": {},
   "source": [
    "### Main"
   ]
  },
  {
   "cell_type": "code",
   "execution_count": 17,
   "id": "00fd59c7",
   "metadata": {
    "ExecuteTime": {
     "end_time": "2023-09-26T01:42:32.381393Z",
     "start_time": "2023-09-26T01:42:32.370383Z"
    }
   },
   "outputs": [],
   "source": [
    "def main():\n",
    "    try:\n",
    "        all_topics_list = []\n",
    "\n",
    "        for topic in search_topics: \n",
    "            print(\"finding page titles for TOPIC:\",topic)\n",
    "            json_list = scrape_topic_wikipedia(topic,5)\n",
    "            all_topics_list.append(json_list)\n",
    "\n",
    "\n",
    "        json_object = np.array(all_topics_list) \n",
    "        json_object = json_object.flatten()\n",
    "        df = pd.json_normalize(json_object)\n",
    "\n",
    "        #preprocess\n",
    "        df = preprocess_summary(df,'summary')\n",
    "\n",
    "        #save to local\n",
    "        df.to_csv('./indexed_data.csv',index=False)\n",
    "\n",
    "        #index\n",
    "        collection = df.to_dict('records')\n",
    "        solr = set_config()\n",
    "        solr.add(collection)\n",
    "    except Exeption as e:\n",
    "        print(e)"
   ]
  },
  {
   "cell_type": "code",
   "execution_count": 18,
   "id": "af86aa90",
   "metadata": {
    "ExecuteTime": {
     "end_time": "2023-09-26T01:42:38.508978Z",
     "start_time": "2023-09-26T01:42:35.682851Z"
    },
    "collapsed": true
   },
   "outputs": [
    {
     "name": "stdout",
     "output_type": "stream",
     "text": [
      "finding page titles for TOPIC: Health\n"
     ]
    },
    {
     "ename": "NameError",
     "evalue": "name 'Exeption' is not defined",
     "output_type": "error",
     "traceback": [
      "\u001b[0;31m---------------------------------------------------------------------------\u001b[0m",
      "\u001b[0;31mKeyboardInterrupt\u001b[0m                         Traceback (most recent call last)",
      "Cell \u001b[0;32mIn[17], line 7\u001b[0m, in \u001b[0;36mmain\u001b[0;34m()\u001b[0m\n\u001b[1;32m      6\u001b[0m \u001b[38;5;28mprint\u001b[39m(\u001b[38;5;124m\"\u001b[39m\u001b[38;5;124mfinding page titles for TOPIC:\u001b[39m\u001b[38;5;124m\"\u001b[39m,topic)\n\u001b[0;32m----> 7\u001b[0m json_list \u001b[38;5;241m=\u001b[39m \u001b[43mscrape_topic_wikipedia\u001b[49m\u001b[43m(\u001b[49m\u001b[43mtopic\u001b[49m\u001b[43m,\u001b[49m\u001b[38;5;241;43m5\u001b[39;49m\u001b[43m)\u001b[49m\n\u001b[1;32m      8\u001b[0m all_topics_list\u001b[38;5;241m.\u001b[39mappend(json_list)\n",
      "Cell \u001b[0;32mIn[6], line 16\u001b[0m, in \u001b[0;36mscrape_topic_wikipedia\u001b[0;34m(topic, min_documents)\u001b[0m\n\u001b[1;32m     15\u001b[0m     \u001b[38;5;28;01mbreak\u001b[39;00m\n\u001b[0;32m---> 16\u001b[0m val \u001b[38;5;241m=\u001b[39m \u001b[43mcheck_page_validity\u001b[49m\u001b[43m(\u001b[49m\u001b[43mpage\u001b[49m\u001b[43m,\u001b[49m\u001b[43mcount_short_sumaries\u001b[49m\u001b[43m)\u001b[49m\n\u001b[1;32m     17\u001b[0m \u001b[38;5;28;01mif\u001b[39;00m(val \u001b[38;5;241m>\u001b[39m \u001b[38;5;241m0\u001b[39m):\n",
      "Cell \u001b[0;32mIn[4], line 3\u001b[0m, in \u001b[0;36mcheck_page_validity\u001b[0;34m(page, csr)\u001b[0m\n\u001b[1;32m      2\u001b[0m page_content \u001b[38;5;241m=\u001b[39m wikipedia\u001b[38;5;241m.\u001b[39mpage(page, auto_suggest\u001b[38;5;241m=\u001b[39m\u001b[38;5;28;01mFalse\u001b[39;00m,redirect\u001b[38;5;241m=\u001b[39m\u001b[38;5;28;01mTrue\u001b[39;00m, preload\u001b[38;5;241m=\u001b[39m\u001b[38;5;28;01mFalse\u001b[39;00m)\n\u001b[0;32m----> 3\u001b[0m page_summary \u001b[38;5;241m=\u001b[39m \u001b[43mpage_content\u001b[49m\u001b[38;5;241;43m.\u001b[39;49m\u001b[43msummary\u001b[49m\n\u001b[1;32m      5\u001b[0m \u001b[38;5;28;01mif\u001b[39;00m(\u001b[38;5;28mlen\u001b[39m(page_summary) \u001b[38;5;241m>\u001b[39m\u001b[38;5;241m=\u001b[39m \u001b[38;5;241m200\u001b[39m):\n",
      "File \u001b[0;32m~/opt/anaconda3/envs/ir_env/lib/python3.9/site-packages/wikipedia/wikipedia.py:530\u001b[0m, in \u001b[0;36mWikipediaPage.summary\u001b[0;34m(self)\u001b[0m\n\u001b[1;32m    528\u001b[0m    query_params[\u001b[38;5;124m'\u001b[39m\u001b[38;5;124mpageids\u001b[39m\u001b[38;5;124m'\u001b[39m] \u001b[38;5;241m=\u001b[39m \u001b[38;5;28mself\u001b[39m\u001b[38;5;241m.\u001b[39mpageid\n\u001b[0;32m--> 530\u001b[0m request \u001b[38;5;241m=\u001b[39m \u001b[43m_wiki_request\u001b[49m\u001b[43m(\u001b[49m\u001b[43mquery_params\u001b[49m\u001b[43m)\u001b[49m\n\u001b[1;32m    531\u001b[0m \u001b[38;5;28mself\u001b[39m\u001b[38;5;241m.\u001b[39m_summary \u001b[38;5;241m=\u001b[39m request[\u001b[38;5;124m'\u001b[39m\u001b[38;5;124mquery\u001b[39m\u001b[38;5;124m'\u001b[39m][\u001b[38;5;124m'\u001b[39m\u001b[38;5;124mpages\u001b[39m\u001b[38;5;124m'\u001b[39m][\u001b[38;5;28mself\u001b[39m\u001b[38;5;241m.\u001b[39mpageid][\u001b[38;5;124m'\u001b[39m\u001b[38;5;124mextract\u001b[39m\u001b[38;5;124m'\u001b[39m]\n",
      "File \u001b[0;32m~/opt/anaconda3/envs/ir_env/lib/python3.9/site-packages/wikipedia/wikipedia.py:737\u001b[0m, in \u001b[0;36m_wiki_request\u001b[0;34m(params)\u001b[0m\n\u001b[1;32m    735\u001b[0m   time\u001b[38;5;241m.\u001b[39msleep(\u001b[38;5;28mint\u001b[39m(wait_time\u001b[38;5;241m.\u001b[39mtotal_seconds()))\n\u001b[0;32m--> 737\u001b[0m r \u001b[38;5;241m=\u001b[39m \u001b[43mrequests\u001b[49m\u001b[38;5;241;43m.\u001b[39;49m\u001b[43mget\u001b[49m\u001b[43m(\u001b[49m\u001b[43mAPI_URL\u001b[49m\u001b[43m,\u001b[49m\u001b[43m \u001b[49m\u001b[43mparams\u001b[49m\u001b[38;5;241;43m=\u001b[39;49m\u001b[43mparams\u001b[49m\u001b[43m,\u001b[49m\u001b[43m \u001b[49m\u001b[43mheaders\u001b[49m\u001b[38;5;241;43m=\u001b[39;49m\u001b[43mheaders\u001b[49m\u001b[43m)\u001b[49m\n\u001b[1;32m    739\u001b[0m \u001b[38;5;28;01mif\u001b[39;00m RATE_LIMIT:\n",
      "File \u001b[0;32m~/opt/anaconda3/envs/ir_env/lib/python3.9/site-packages/requests/api.py:73\u001b[0m, in \u001b[0;36mget\u001b[0;34m(url, params, **kwargs)\u001b[0m\n\u001b[1;32m     63\u001b[0m \u001b[38;5;250m\u001b[39m\u001b[38;5;124mr\u001b[39m\u001b[38;5;124;03m\"\"\"Sends a GET request.\u001b[39;00m\n\u001b[1;32m     64\u001b[0m \n\u001b[1;32m     65\u001b[0m \u001b[38;5;124;03m:param url: URL for the new :class:`Request` object.\u001b[39;00m\n\u001b[0;32m   (...)\u001b[0m\n\u001b[1;32m     70\u001b[0m \u001b[38;5;124;03m:rtype: requests.Response\u001b[39;00m\n\u001b[1;32m     71\u001b[0m \u001b[38;5;124;03m\"\"\"\u001b[39;00m\n\u001b[0;32m---> 73\u001b[0m \u001b[38;5;28;01mreturn\u001b[39;00m \u001b[43mrequest\u001b[49m\u001b[43m(\u001b[49m\u001b[38;5;124;43m\"\u001b[39;49m\u001b[38;5;124;43mget\u001b[39;49m\u001b[38;5;124;43m\"\u001b[39;49m\u001b[43m,\u001b[49m\u001b[43m \u001b[49m\u001b[43murl\u001b[49m\u001b[43m,\u001b[49m\u001b[43m \u001b[49m\u001b[43mparams\u001b[49m\u001b[38;5;241;43m=\u001b[39;49m\u001b[43mparams\u001b[49m\u001b[43m,\u001b[49m\u001b[43m \u001b[49m\u001b[38;5;241;43m*\u001b[39;49m\u001b[38;5;241;43m*\u001b[39;49m\u001b[43mkwargs\u001b[49m\u001b[43m)\u001b[49m\n",
      "File \u001b[0;32m~/opt/anaconda3/envs/ir_env/lib/python3.9/site-packages/requests/api.py:59\u001b[0m, in \u001b[0;36mrequest\u001b[0;34m(method, url, **kwargs)\u001b[0m\n\u001b[1;32m     58\u001b[0m \u001b[38;5;28;01mwith\u001b[39;00m sessions\u001b[38;5;241m.\u001b[39mSession() \u001b[38;5;28;01mas\u001b[39;00m session:\n\u001b[0;32m---> 59\u001b[0m     \u001b[38;5;28;01mreturn\u001b[39;00m \u001b[43msession\u001b[49m\u001b[38;5;241;43m.\u001b[39;49m\u001b[43mrequest\u001b[49m\u001b[43m(\u001b[49m\u001b[43mmethod\u001b[49m\u001b[38;5;241;43m=\u001b[39;49m\u001b[43mmethod\u001b[49m\u001b[43m,\u001b[49m\u001b[43m \u001b[49m\u001b[43murl\u001b[49m\u001b[38;5;241;43m=\u001b[39;49m\u001b[43murl\u001b[49m\u001b[43m,\u001b[49m\u001b[43m \u001b[49m\u001b[38;5;241;43m*\u001b[39;49m\u001b[38;5;241;43m*\u001b[39;49m\u001b[43mkwargs\u001b[49m\u001b[43m)\u001b[49m\n",
      "File \u001b[0;32m~/opt/anaconda3/envs/ir_env/lib/python3.9/site-packages/requests/sessions.py:589\u001b[0m, in \u001b[0;36mSession.request\u001b[0;34m(self, method, url, params, data, headers, cookies, files, auth, timeout, allow_redirects, proxies, hooks, stream, verify, cert, json)\u001b[0m\n\u001b[1;32m    588\u001b[0m send_kwargs\u001b[38;5;241m.\u001b[39mupdate(settings)\n\u001b[0;32m--> 589\u001b[0m resp \u001b[38;5;241m=\u001b[39m \u001b[38;5;28;43mself\u001b[39;49m\u001b[38;5;241;43m.\u001b[39;49m\u001b[43msend\u001b[49m\u001b[43m(\u001b[49m\u001b[43mprep\u001b[49m\u001b[43m,\u001b[49m\u001b[43m \u001b[49m\u001b[38;5;241;43m*\u001b[39;49m\u001b[38;5;241;43m*\u001b[39;49m\u001b[43msend_kwargs\u001b[49m\u001b[43m)\u001b[49m\n\u001b[1;32m    591\u001b[0m \u001b[38;5;28;01mreturn\u001b[39;00m resp\n",
      "File \u001b[0;32m~/opt/anaconda3/envs/ir_env/lib/python3.9/site-packages/requests/sessions.py:703\u001b[0m, in \u001b[0;36mSession.send\u001b[0;34m(self, request, **kwargs)\u001b[0m\n\u001b[1;32m    702\u001b[0m \u001b[38;5;66;03m# Send the request\u001b[39;00m\n\u001b[0;32m--> 703\u001b[0m r \u001b[38;5;241m=\u001b[39m \u001b[43madapter\u001b[49m\u001b[38;5;241;43m.\u001b[39;49m\u001b[43msend\u001b[49m\u001b[43m(\u001b[49m\u001b[43mrequest\u001b[49m\u001b[43m,\u001b[49m\u001b[43m \u001b[49m\u001b[38;5;241;43m*\u001b[39;49m\u001b[38;5;241;43m*\u001b[39;49m\u001b[43mkwargs\u001b[49m\u001b[43m)\u001b[49m\n\u001b[1;32m    705\u001b[0m \u001b[38;5;66;03m# Total elapsed time of the request (approximately)\u001b[39;00m\n",
      "File \u001b[0;32m~/opt/anaconda3/envs/ir_env/lib/python3.9/site-packages/requests/adapters.py:486\u001b[0m, in \u001b[0;36mHTTPAdapter.send\u001b[0;34m(self, request, stream, timeout, verify, cert, proxies)\u001b[0m\n\u001b[1;32m    485\u001b[0m \u001b[38;5;28;01mtry\u001b[39;00m:\n\u001b[0;32m--> 486\u001b[0m     resp \u001b[38;5;241m=\u001b[39m \u001b[43mconn\u001b[49m\u001b[38;5;241;43m.\u001b[39;49m\u001b[43murlopen\u001b[49m\u001b[43m(\u001b[49m\n\u001b[1;32m    487\u001b[0m \u001b[43m        \u001b[49m\u001b[43mmethod\u001b[49m\u001b[38;5;241;43m=\u001b[39;49m\u001b[43mrequest\u001b[49m\u001b[38;5;241;43m.\u001b[39;49m\u001b[43mmethod\u001b[49m\u001b[43m,\u001b[49m\n\u001b[1;32m    488\u001b[0m \u001b[43m        \u001b[49m\u001b[43murl\u001b[49m\u001b[38;5;241;43m=\u001b[39;49m\u001b[43murl\u001b[49m\u001b[43m,\u001b[49m\n\u001b[1;32m    489\u001b[0m \u001b[43m        \u001b[49m\u001b[43mbody\u001b[49m\u001b[38;5;241;43m=\u001b[39;49m\u001b[43mrequest\u001b[49m\u001b[38;5;241;43m.\u001b[39;49m\u001b[43mbody\u001b[49m\u001b[43m,\u001b[49m\n\u001b[1;32m    490\u001b[0m \u001b[43m        \u001b[49m\u001b[43mheaders\u001b[49m\u001b[38;5;241;43m=\u001b[39;49m\u001b[43mrequest\u001b[49m\u001b[38;5;241;43m.\u001b[39;49m\u001b[43mheaders\u001b[49m\u001b[43m,\u001b[49m\n\u001b[1;32m    491\u001b[0m \u001b[43m        \u001b[49m\u001b[43mredirect\u001b[49m\u001b[38;5;241;43m=\u001b[39;49m\u001b[38;5;28;43;01mFalse\u001b[39;49;00m\u001b[43m,\u001b[49m\n\u001b[1;32m    492\u001b[0m \u001b[43m        \u001b[49m\u001b[43massert_same_host\u001b[49m\u001b[38;5;241;43m=\u001b[39;49m\u001b[38;5;28;43;01mFalse\u001b[39;49;00m\u001b[43m,\u001b[49m\n\u001b[1;32m    493\u001b[0m \u001b[43m        \u001b[49m\u001b[43mpreload_content\u001b[49m\u001b[38;5;241;43m=\u001b[39;49m\u001b[38;5;28;43;01mFalse\u001b[39;49;00m\u001b[43m,\u001b[49m\n\u001b[1;32m    494\u001b[0m \u001b[43m        \u001b[49m\u001b[43mdecode_content\u001b[49m\u001b[38;5;241;43m=\u001b[39;49m\u001b[38;5;28;43;01mFalse\u001b[39;49;00m\u001b[43m,\u001b[49m\n\u001b[1;32m    495\u001b[0m \u001b[43m        \u001b[49m\u001b[43mretries\u001b[49m\u001b[38;5;241;43m=\u001b[39;49m\u001b[38;5;28;43mself\u001b[39;49m\u001b[38;5;241;43m.\u001b[39;49m\u001b[43mmax_retries\u001b[49m\u001b[43m,\u001b[49m\n\u001b[1;32m    496\u001b[0m \u001b[43m        \u001b[49m\u001b[43mtimeout\u001b[49m\u001b[38;5;241;43m=\u001b[39;49m\u001b[43mtimeout\u001b[49m\u001b[43m,\u001b[49m\n\u001b[1;32m    497\u001b[0m \u001b[43m        \u001b[49m\u001b[43mchunked\u001b[49m\u001b[38;5;241;43m=\u001b[39;49m\u001b[43mchunked\u001b[49m\u001b[43m,\u001b[49m\n\u001b[1;32m    498\u001b[0m \u001b[43m    \u001b[49m\u001b[43m)\u001b[49m\n\u001b[1;32m    500\u001b[0m \u001b[38;5;28;01mexcept\u001b[39;00m (ProtocolError, \u001b[38;5;167;01mOSError\u001b[39;00m) \u001b[38;5;28;01mas\u001b[39;00m err:\n",
      "File \u001b[0;32m~/opt/anaconda3/envs/ir_env/lib/python3.9/site-packages/urllib3/connectionpool.py:714\u001b[0m, in \u001b[0;36mHTTPConnectionPool.urlopen\u001b[0;34m(self, method, url, body, headers, retries, redirect, assert_same_host, timeout, pool_timeout, release_conn, chunked, body_pos, **response_kw)\u001b[0m\n\u001b[1;32m    713\u001b[0m \u001b[38;5;66;03m# Make the request on the httplib connection object.\u001b[39;00m\n\u001b[0;32m--> 714\u001b[0m httplib_response \u001b[38;5;241m=\u001b[39m \u001b[38;5;28;43mself\u001b[39;49m\u001b[38;5;241;43m.\u001b[39;49m\u001b[43m_make_request\u001b[49m\u001b[43m(\u001b[49m\n\u001b[1;32m    715\u001b[0m \u001b[43m    \u001b[49m\u001b[43mconn\u001b[49m\u001b[43m,\u001b[49m\n\u001b[1;32m    716\u001b[0m \u001b[43m    \u001b[49m\u001b[43mmethod\u001b[49m\u001b[43m,\u001b[49m\n\u001b[1;32m    717\u001b[0m \u001b[43m    \u001b[49m\u001b[43murl\u001b[49m\u001b[43m,\u001b[49m\n\u001b[1;32m    718\u001b[0m \u001b[43m    \u001b[49m\u001b[43mtimeout\u001b[49m\u001b[38;5;241;43m=\u001b[39;49m\u001b[43mtimeout_obj\u001b[49m\u001b[43m,\u001b[49m\n\u001b[1;32m    719\u001b[0m \u001b[43m    \u001b[49m\u001b[43mbody\u001b[49m\u001b[38;5;241;43m=\u001b[39;49m\u001b[43mbody\u001b[49m\u001b[43m,\u001b[49m\n\u001b[1;32m    720\u001b[0m \u001b[43m    \u001b[49m\u001b[43mheaders\u001b[49m\u001b[38;5;241;43m=\u001b[39;49m\u001b[43mheaders\u001b[49m\u001b[43m,\u001b[49m\n\u001b[1;32m    721\u001b[0m \u001b[43m    \u001b[49m\u001b[43mchunked\u001b[49m\u001b[38;5;241;43m=\u001b[39;49m\u001b[43mchunked\u001b[49m\u001b[43m,\u001b[49m\n\u001b[1;32m    722\u001b[0m \u001b[43m\u001b[49m\u001b[43m)\u001b[49m\n\u001b[1;32m    724\u001b[0m \u001b[38;5;66;03m# If we're going to release the connection in ``finally:``, then\u001b[39;00m\n\u001b[1;32m    725\u001b[0m \u001b[38;5;66;03m# the response doesn't need to know about the connection. Otherwise\u001b[39;00m\n\u001b[1;32m    726\u001b[0m \u001b[38;5;66;03m# it will also try to release it and we'll have a double-release\u001b[39;00m\n\u001b[1;32m    727\u001b[0m \u001b[38;5;66;03m# mess.\u001b[39;00m\n",
      "File \u001b[0;32m~/opt/anaconda3/envs/ir_env/lib/python3.9/site-packages/urllib3/connectionpool.py:415\u001b[0m, in \u001b[0;36mHTTPConnectionPool._make_request\u001b[0;34m(self, conn, method, url, timeout, chunked, **httplib_request_kw)\u001b[0m\n\u001b[1;32m    414\u001b[0m     \u001b[38;5;28;01melse\u001b[39;00m:\n\u001b[0;32m--> 415\u001b[0m         \u001b[43mconn\u001b[49m\u001b[38;5;241;43m.\u001b[39;49m\u001b[43mrequest\u001b[49m\u001b[43m(\u001b[49m\u001b[43mmethod\u001b[49m\u001b[43m,\u001b[49m\u001b[43m \u001b[49m\u001b[43murl\u001b[49m\u001b[43m,\u001b[49m\u001b[43m \u001b[49m\u001b[38;5;241;43m*\u001b[39;49m\u001b[38;5;241;43m*\u001b[39;49m\u001b[43mhttplib_request_kw\u001b[49m\u001b[43m)\u001b[49m\n\u001b[1;32m    417\u001b[0m \u001b[38;5;66;03m# We are swallowing BrokenPipeError (errno.EPIPE) since the server is\u001b[39;00m\n\u001b[1;32m    418\u001b[0m \u001b[38;5;66;03m# legitimately able to close the connection after sending a valid response.\u001b[39;00m\n\u001b[1;32m    419\u001b[0m \u001b[38;5;66;03m# With this behaviour, the received response is still readable.\u001b[39;00m\n",
      "File \u001b[0;32m~/opt/anaconda3/envs/ir_env/lib/python3.9/site-packages/urllib3/connection.py:244\u001b[0m, in \u001b[0;36mHTTPConnection.request\u001b[0;34m(self, method, url, body, headers)\u001b[0m\n\u001b[1;32m    243\u001b[0m     headers[\u001b[38;5;124m\"\u001b[39m\u001b[38;5;124mUser-Agent\u001b[39m\u001b[38;5;124m\"\u001b[39m] \u001b[38;5;241m=\u001b[39m _get_default_user_agent()\n\u001b[0;32m--> 244\u001b[0m \u001b[38;5;28;43msuper\u001b[39;49m\u001b[43m(\u001b[49m\u001b[43mHTTPConnection\u001b[49m\u001b[43m,\u001b[49m\u001b[43m \u001b[49m\u001b[38;5;28;43mself\u001b[39;49m\u001b[43m)\u001b[49m\u001b[38;5;241;43m.\u001b[39;49m\u001b[43mrequest\u001b[49m\u001b[43m(\u001b[49m\u001b[43mmethod\u001b[49m\u001b[43m,\u001b[49m\u001b[43m \u001b[49m\u001b[43murl\u001b[49m\u001b[43m,\u001b[49m\u001b[43m \u001b[49m\u001b[43mbody\u001b[49m\u001b[38;5;241;43m=\u001b[39;49m\u001b[43mbody\u001b[49m\u001b[43m,\u001b[49m\u001b[43m \u001b[49m\u001b[43mheaders\u001b[49m\u001b[38;5;241;43m=\u001b[39;49m\u001b[43mheaders\u001b[49m\u001b[43m)\u001b[49m\n",
      "File \u001b[0;32m~/opt/anaconda3/envs/ir_env/lib/python3.9/http/client.py:1285\u001b[0m, in \u001b[0;36mHTTPConnection.request\u001b[0;34m(self, method, url, body, headers, encode_chunked)\u001b[0m\n\u001b[1;32m   1284\u001b[0m \u001b[38;5;250m\u001b[39m\u001b[38;5;124;03m\"\"\"Send a complete request to the server.\"\"\"\u001b[39;00m\n\u001b[0;32m-> 1285\u001b[0m \u001b[38;5;28;43mself\u001b[39;49m\u001b[38;5;241;43m.\u001b[39;49m\u001b[43m_send_request\u001b[49m\u001b[43m(\u001b[49m\u001b[43mmethod\u001b[49m\u001b[43m,\u001b[49m\u001b[43m \u001b[49m\u001b[43murl\u001b[49m\u001b[43m,\u001b[49m\u001b[43m \u001b[49m\u001b[43mbody\u001b[49m\u001b[43m,\u001b[49m\u001b[43m \u001b[49m\u001b[43mheaders\u001b[49m\u001b[43m,\u001b[49m\u001b[43m \u001b[49m\u001b[43mencode_chunked\u001b[49m\u001b[43m)\u001b[49m\n",
      "File \u001b[0;32m~/opt/anaconda3/envs/ir_env/lib/python3.9/http/client.py:1331\u001b[0m, in \u001b[0;36mHTTPConnection._send_request\u001b[0;34m(self, method, url, body, headers, encode_chunked)\u001b[0m\n\u001b[1;32m   1330\u001b[0m     body \u001b[38;5;241m=\u001b[39m _encode(body, \u001b[38;5;124m'\u001b[39m\u001b[38;5;124mbody\u001b[39m\u001b[38;5;124m'\u001b[39m)\n\u001b[0;32m-> 1331\u001b[0m \u001b[38;5;28;43mself\u001b[39;49m\u001b[38;5;241;43m.\u001b[39;49m\u001b[43mendheaders\u001b[49m\u001b[43m(\u001b[49m\u001b[43mbody\u001b[49m\u001b[43m,\u001b[49m\u001b[43m \u001b[49m\u001b[43mencode_chunked\u001b[49m\u001b[38;5;241;43m=\u001b[39;49m\u001b[43mencode_chunked\u001b[49m\u001b[43m)\u001b[49m\n",
      "File \u001b[0;32m~/opt/anaconda3/envs/ir_env/lib/python3.9/http/client.py:1280\u001b[0m, in \u001b[0;36mHTTPConnection.endheaders\u001b[0;34m(self, message_body, encode_chunked)\u001b[0m\n\u001b[1;32m   1279\u001b[0m     \u001b[38;5;28;01mraise\u001b[39;00m CannotSendHeader()\n\u001b[0;32m-> 1280\u001b[0m \u001b[38;5;28;43mself\u001b[39;49m\u001b[38;5;241;43m.\u001b[39;49m\u001b[43m_send_output\u001b[49m\u001b[43m(\u001b[49m\u001b[43mmessage_body\u001b[49m\u001b[43m,\u001b[49m\u001b[43m \u001b[49m\u001b[43mencode_chunked\u001b[49m\u001b[38;5;241;43m=\u001b[39;49m\u001b[43mencode_chunked\u001b[49m\u001b[43m)\u001b[49m\n",
      "File \u001b[0;32m~/opt/anaconda3/envs/ir_env/lib/python3.9/http/client.py:1040\u001b[0m, in \u001b[0;36mHTTPConnection._send_output\u001b[0;34m(self, message_body, encode_chunked)\u001b[0m\n\u001b[1;32m   1039\u001b[0m \u001b[38;5;28;01mdel\u001b[39;00m \u001b[38;5;28mself\u001b[39m\u001b[38;5;241m.\u001b[39m_buffer[:]\n\u001b[0;32m-> 1040\u001b[0m \u001b[38;5;28;43mself\u001b[39;49m\u001b[38;5;241;43m.\u001b[39;49m\u001b[43msend\u001b[49m\u001b[43m(\u001b[49m\u001b[43mmsg\u001b[49m\u001b[43m)\u001b[49m\n\u001b[1;32m   1042\u001b[0m \u001b[38;5;28;01mif\u001b[39;00m message_body \u001b[38;5;129;01mis\u001b[39;00m \u001b[38;5;129;01mnot\u001b[39;00m \u001b[38;5;28;01mNone\u001b[39;00m:\n\u001b[1;32m   1043\u001b[0m \n\u001b[1;32m   1044\u001b[0m     \u001b[38;5;66;03m# create a consistent interface to message_body\u001b[39;00m\n",
      "File \u001b[0;32m~/opt/anaconda3/envs/ir_env/lib/python3.9/http/client.py:980\u001b[0m, in \u001b[0;36mHTTPConnection.send\u001b[0;34m(self, data)\u001b[0m\n\u001b[1;32m    979\u001b[0m \u001b[38;5;28;01mif\u001b[39;00m \u001b[38;5;28mself\u001b[39m\u001b[38;5;241m.\u001b[39mauto_open:\n\u001b[0;32m--> 980\u001b[0m     \u001b[38;5;28;43mself\u001b[39;49m\u001b[38;5;241;43m.\u001b[39;49m\u001b[43mconnect\u001b[49m\u001b[43m(\u001b[49m\u001b[43m)\u001b[49m\n\u001b[1;32m    981\u001b[0m \u001b[38;5;28;01melse\u001b[39;00m:\n",
      "File \u001b[0;32m~/opt/anaconda3/envs/ir_env/lib/python3.9/site-packages/urllib3/connection.py:205\u001b[0m, in \u001b[0;36mHTTPConnection.connect\u001b[0;34m(self)\u001b[0m\n\u001b[1;32m    204\u001b[0m \u001b[38;5;28;01mdef\u001b[39;00m \u001b[38;5;21mconnect\u001b[39m(\u001b[38;5;28mself\u001b[39m):\n\u001b[0;32m--> 205\u001b[0m     conn \u001b[38;5;241m=\u001b[39m \u001b[38;5;28;43mself\u001b[39;49m\u001b[38;5;241;43m.\u001b[39;49m\u001b[43m_new_conn\u001b[49m\u001b[43m(\u001b[49m\u001b[43m)\u001b[49m\n\u001b[1;32m    206\u001b[0m     \u001b[38;5;28mself\u001b[39m\u001b[38;5;241m.\u001b[39m_prepare_conn(conn)\n",
      "File \u001b[0;32m~/opt/anaconda3/envs/ir_env/lib/python3.9/site-packages/urllib3/connection.py:174\u001b[0m, in \u001b[0;36mHTTPConnection._new_conn\u001b[0;34m(self)\u001b[0m\n\u001b[1;32m    173\u001b[0m \u001b[38;5;28;01mtry\u001b[39;00m:\n\u001b[0;32m--> 174\u001b[0m     conn \u001b[38;5;241m=\u001b[39m \u001b[43mconnection\u001b[49m\u001b[38;5;241;43m.\u001b[39;49m\u001b[43mcreate_connection\u001b[49m\u001b[43m(\u001b[49m\n\u001b[1;32m    175\u001b[0m \u001b[43m        \u001b[49m\u001b[43m(\u001b[49m\u001b[38;5;28;43mself\u001b[39;49m\u001b[38;5;241;43m.\u001b[39;49m\u001b[43m_dns_host\u001b[49m\u001b[43m,\u001b[49m\u001b[43m \u001b[49m\u001b[38;5;28;43mself\u001b[39;49m\u001b[38;5;241;43m.\u001b[39;49m\u001b[43mport\u001b[49m\u001b[43m)\u001b[49m\u001b[43m,\u001b[49m\u001b[43m \u001b[49m\u001b[38;5;28;43mself\u001b[39;49m\u001b[38;5;241;43m.\u001b[39;49m\u001b[43mtimeout\u001b[49m\u001b[43m,\u001b[49m\u001b[43m \u001b[49m\u001b[38;5;241;43m*\u001b[39;49m\u001b[38;5;241;43m*\u001b[39;49m\u001b[43mextra_kw\u001b[49m\n\u001b[1;32m    176\u001b[0m \u001b[43m    \u001b[49m\u001b[43m)\u001b[49m\n\u001b[1;32m    178\u001b[0m \u001b[38;5;28;01mexcept\u001b[39;00m SocketTimeout:\n",
      "File \u001b[0;32m~/opt/anaconda3/envs/ir_env/lib/python3.9/site-packages/urllib3/util/connection.py:85\u001b[0m, in \u001b[0;36mcreate_connection\u001b[0;34m(address, timeout, source_address, socket_options)\u001b[0m\n\u001b[1;32m     84\u001b[0m     sock\u001b[38;5;241m.\u001b[39mbind(source_address)\n\u001b[0;32m---> 85\u001b[0m \u001b[43msock\u001b[49m\u001b[38;5;241;43m.\u001b[39;49m\u001b[43mconnect\u001b[49m\u001b[43m(\u001b[49m\u001b[43msa\u001b[49m\u001b[43m)\u001b[49m\n\u001b[1;32m     86\u001b[0m \u001b[38;5;28;01mreturn\u001b[39;00m sock\n",
      "\u001b[0;31mKeyboardInterrupt\u001b[0m: ",
      "\nDuring handling of the above exception, another exception occurred:\n",
      "\u001b[0;31mNameError\u001b[0m                                 Traceback (most recent call last)",
      "Cell \u001b[0;32mIn[18], line 1\u001b[0m\n\u001b[0;32m----> 1\u001b[0m \u001b[43mmain\u001b[49m\u001b[43m(\u001b[49m\u001b[43m)\u001b[49m\n",
      "Cell \u001b[0;32mIn[17], line 25\u001b[0m, in \u001b[0;36mmain\u001b[0;34m()\u001b[0m\n\u001b[1;32m     23\u001b[0m     solr \u001b[38;5;241m=\u001b[39m set_config()\n\u001b[1;32m     24\u001b[0m     solr\u001b[38;5;241m.\u001b[39madd(collection)\n\u001b[0;32m---> 25\u001b[0m \u001b[38;5;28;01mexcept\u001b[39;00m \u001b[43mExeption\u001b[49m \u001b[38;5;28;01mas\u001b[39;00m e:\n\u001b[1;32m     26\u001b[0m     \u001b[38;5;28mprint\u001b[39m(e)\n",
      "\u001b[0;31mNameError\u001b[0m: name 'Exeption' is not defined"
     ]
    }
   ],
   "source": [
    "main()"
   ]
  },
  {
   "cell_type": "code",
   "execution_count": null,
   "id": "cdda45e6",
   "metadata": {},
   "outputs": [],
   "source": []
  },
  {
   "cell_type": "markdown",
   "id": "81ba6756",
   "metadata": {},
   "source": [
    "### data check"
   ]
  },
  {
   "cell_type": "code",
   "execution_count": 46,
   "id": "5afb70c5",
   "metadata": {
    "ExecuteTime": {
     "end_time": "2023-09-28T04:23:57.795921Z",
     "start_time": "2023-09-28T04:23:57.672815Z"
    }
   },
   "outputs": [
    {
     "data": {
      "text/plain": [
       "(5500, 5)"
      ]
     },
     "execution_count": 46,
     "metadata": {},
     "output_type": "execute_result"
    }
   ],
   "source": [
    "df = pd.read_csv('./submission/indexed_data.csv')\n",
    "df.shape"
   ]
  },
  {
   "cell_type": "code",
   "execution_count": 47,
   "id": "9b1e3681",
   "metadata": {
    "ExecuteTime": {
     "end_time": "2023-09-28T04:23:58.202593Z",
     "start_time": "2023-09-28T04:23:58.183018Z"
    }
   },
   "outputs": [
    {
     "name": "stdout",
     "output_type": "stream",
     "text": [
      "(550, 5)\n",
      "(550, 5)\n",
      "(550, 5)\n",
      "(550, 5)\n",
      "(550, 5)\n",
      "(550, 5)\n",
      "(550, 5)\n",
      "(550, 5)\n",
      "(550, 5)\n",
      "(550, 5)\n"
     ]
    }
   ],
   "source": [
    "for topic in search_topics:\n",
    "    print(df[df['topic'] == topic].shape)"
   ]
  },
  {
   "cell_type": "code",
   "execution_count": 48,
   "id": "c3c8bb34",
   "metadata": {
    "ExecuteTime": {
     "end_time": "2023-09-28T04:23:58.528589Z",
     "start_time": "2023-09-28T04:23:58.509015Z"
    },
    "scrolled": true
   },
   "outputs": [
    {
     "data": {
      "text/plain": [
       "(5285, 5)"
      ]
     },
     "execution_count": 48,
     "metadata": {},
     "output_type": "execute_result"
    }
   ],
   "source": [
    "df[df['summary'].str.len() > 200].shape"
   ]
  },
  {
   "cell_type": "code",
   "execution_count": 57,
   "id": "655f162c",
   "metadata": {
    "ExecuteTime": {
     "end_time": "2023-09-28T04:24:55.496004Z",
     "start_time": "2023-09-28T04:24:55.474948Z"
    }
   },
   "outputs": [
    {
     "data": {
      "text/plain": [
       "topic\n",
       "Economy          537\n",
       "Education        519\n",
       "Entertainment    524\n",
       "Environment      538\n",
       "Food             522\n",
       "Health           528\n",
       "Politics         525\n",
       "Sports           532\n",
       "Technology       538\n",
       "Travel           520\n",
       "Name: s1, dtype: int64"
      ]
     },
     "execution_count": 57,
     "metadata": {},
     "output_type": "execute_result"
    }
   ],
   "source": [
    "df.groupby('topic')['s1'].apply(lambda x: x[x.str.len() > 200].shape[0])"
   ]
  },
  {
   "cell_type": "code",
   "execution_count": 50,
   "id": "41b99915",
   "metadata": {
    "ExecuteTime": {
     "end_time": "2023-09-28T04:23:59.239458Z",
     "start_time": "2023-09-28T04:23:59.224553Z"
    }
   },
   "outputs": [
    {
     "data": {
      "text/plain": [
       "revision_id    0\n",
       "title          0\n",
       "summary        2\n",
       "url            0\n",
       "topic          0\n",
       "dtype: int64"
      ]
     },
     "execution_count": 50,
     "metadata": {},
     "output_type": "execute_result"
    }
   ],
   "source": [
    "df.isna().sum()"
   ]
  },
  {
   "cell_type": "code",
   "execution_count": 58,
   "id": "1f57d0d3",
   "metadata": {
    "ExecuteTime": {
     "end_time": "2023-09-28T04:25:00.950566Z",
     "start_time": "2023-09-28T04:25:00.930853Z"
    }
   },
   "outputs": [
    {
     "data": {
      "text/plain": [
       "(0, 6)"
      ]
     },
     "execution_count": 58,
     "metadata": {},
     "output_type": "execute_result"
    }
   ],
   "source": [
    "df = df.dropna(subset=['summary'])\n",
    "df[df['summary'].str.isalnum()].shape"
   ]
  },
  {
   "cell_type": "code",
   "execution_count": 52,
   "id": "64d0df3e",
   "metadata": {
    "ExecuteTime": {
     "end_time": "2023-09-28T04:24:06.376010Z",
     "start_time": "2023-09-28T04:24:06.362654Z"
    }
   },
   "outputs": [
    {
     "data": {
      "text/plain": [
       "array(['De  Chinese 德 pinyin dé also written as Te is a key concept in Chinese philosophy usually translated inherent character inner power integrity in Taoism moral character virtue morality in Confucianism and other contexts and quality virtue guṇa or merit virtuous deeds puṇya in Chinese Buddhism'],\n",
       "      dtype=object)"
      ]
     },
     "execution_count": 52,
     "metadata": {},
     "output_type": "execute_result"
    }
   ],
   "source": [
    "df[df['revision_id'] == 1177076134]['summary'].values"
   ]
  },
  {
   "cell_type": "code",
   "execution_count": 59,
   "id": "123bedce",
   "metadata": {
    "ExecuteTime": {
     "end_time": "2023-09-28T04:30:44.787991Z",
     "start_time": "2023-09-28T04:30:44.067940Z"
    }
   },
   "outputs": [
    {
     "data": {
      "text/html": [
       "<div>\n",
       "<style scoped>\n",
       "    .dataframe tbody tr th:only-of-type {\n",
       "        vertical-align: middle;\n",
       "    }\n",
       "\n",
       "    .dataframe tbody tr th {\n",
       "        vertical-align: top;\n",
       "    }\n",
       "\n",
       "    .dataframe thead th {\n",
       "        text-align: right;\n",
       "    }\n",
       "</style>\n",
       "<table border=\"1\" class=\"dataframe\">\n",
       "  <thead>\n",
       "    <tr style=\"text-align: right;\">\n",
       "      <th></th>\n",
       "      <th>revision_id</th>\n",
       "      <th>title</th>\n",
       "      <th>summary</th>\n",
       "      <th>url</th>\n",
       "      <th>topic</th>\n",
       "      <th>s1</th>\n",
       "    </tr>\n",
       "  </thead>\n",
       "  <tbody>\n",
       "    <tr>\n",
       "      <th>0</th>\n",
       "      <td>1176891029</td>\n",
       "      <td>Cross-dressing</td>\n",
       "      <td>Crossdressing is the act of wearing clothes tr...</td>\n",
       "      <td>https://en.wikipedia.org/wiki/Cross-dressing</td>\n",
       "      <td>Health</td>\n",
       "      <td>Crossdressing is the act of wearing clothes tr...</td>\n",
       "    </tr>\n",
       "    <tr>\n",
       "      <th>1</th>\n",
       "      <td>1177048119</td>\n",
       "      <td>Grit (personality trait)</td>\n",
       "      <td>In psychology grit is a positive noncognitive ...</td>\n",
       "      <td>https://en.wikipedia.org/wiki/Grit_(personalit...</td>\n",
       "      <td>Health</td>\n",
       "      <td>In psychology grit is a positive noncognitive ...</td>\n",
       "    </tr>\n",
       "    <tr>\n",
       "      <th>2</th>\n",
       "      <td>1144494427</td>\n",
       "      <td>Carnivalesque</td>\n",
       "      <td>Carnivalesque is a literary mode that subverts...</td>\n",
       "      <td>https://en.wikipedia.org/wiki/Carnivalesque</td>\n",
       "      <td>Health</td>\n",
       "      <td>Carnivalesque is a literary mode that subverts...</td>\n",
       "    </tr>\n",
       "    <tr>\n",
       "      <th>3</th>\n",
       "      <td>1174405995</td>\n",
       "      <td>Cardiac surgery</td>\n",
       "      <td>Cardiac surgery or cardiovascular surgery is s...</td>\n",
       "      <td>https://en.wikipedia.org/wiki/Cardiac_surgery</td>\n",
       "      <td>Health</td>\n",
       "      <td>Cardiac surgery or cardiovascular surgery is s...</td>\n",
       "    </tr>\n",
       "    <tr>\n",
       "      <th>4</th>\n",
       "      <td>1161352014</td>\n",
       "      <td>David Sterritt</td>\n",
       "      <td>David Sterritt born September 11 1944 is a fil...</td>\n",
       "      <td>https://en.wikipedia.org/wiki/David_Sterritt</td>\n",
       "      <td>Health</td>\n",
       "      <td>David Sterritt born September 11 1944 is a fil...</td>\n",
       "    </tr>\n",
       "    <tr>\n",
       "      <th>...</th>\n",
       "      <td>...</td>\n",
       "      <td>...</td>\n",
       "      <td>...</td>\n",
       "      <td>...</td>\n",
       "      <td>...</td>\n",
       "      <td>...</td>\n",
       "    </tr>\n",
       "    <tr>\n",
       "      <th>5495</th>\n",
       "      <td>1138664372</td>\n",
       "      <td>Discrimination testing</td>\n",
       "      <td>Discrimination testing is a technique employed...</td>\n",
       "      <td>https://en.wikipedia.org/wiki/Discrimination_t...</td>\n",
       "      <td>Food</td>\n",
       "      <td>Discrimination testing is a technique employed...</td>\n",
       "    </tr>\n",
       "    <tr>\n",
       "      <th>5496</th>\n",
       "      <td>1175506445</td>\n",
       "      <td>Café des Artistes</td>\n",
       "      <td>Café des Artistes was a fine restaurant at 1 W...</td>\n",
       "      <td>https://en.wikipedia.org/wiki/Caf%C3%A9_des_Ar...</td>\n",
       "      <td>Food</td>\n",
       "      <td>Caf des Artistes was a fine restaurant at 1 We...</td>\n",
       "    </tr>\n",
       "    <tr>\n",
       "      <th>5497</th>\n",
       "      <td>1170115037</td>\n",
       "      <td>Canal Street (Manhattan)</td>\n",
       "      <td>Canal Street is a major eastwest street of ove...</td>\n",
       "      <td>https://en.wikipedia.org/wiki/Canal_Street_(Ma...</td>\n",
       "      <td>Food</td>\n",
       "      <td>Canal Street is a major eastwest street of ove...</td>\n",
       "    </tr>\n",
       "    <tr>\n",
       "      <th>5498</th>\n",
       "      <td>1174616120</td>\n",
       "      <td>Ethylenediaminetetraacetic acid</td>\n",
       "      <td>Ethylenediaminetetraacetic acid EDTA also call...</td>\n",
       "      <td>https://en.wikipedia.org/wiki/Ethylenediaminet...</td>\n",
       "      <td>Food</td>\n",
       "      <td>Ethylenediaminetetraacetic acid EDTA also call...</td>\n",
       "    </tr>\n",
       "    <tr>\n",
       "      <th>5499</th>\n",
       "      <td>1176349314</td>\n",
       "      <td>Cuisine of the Southern United States</td>\n",
       "      <td>The cuisine of the Southern United States enco...</td>\n",
       "      <td>https://en.wikipedia.org/wiki/Cuisine_of_the_S...</td>\n",
       "      <td>Food</td>\n",
       "      <td>The cuisine of the Southern United States enco...</td>\n",
       "    </tr>\n",
       "  </tbody>\n",
       "</table>\n",
       "<p>5498 rows × 6 columns</p>\n",
       "</div>"
      ],
      "text/plain": [
       "      revision_id                                  title  \\\n",
       "0      1176891029                         Cross-dressing   \n",
       "1      1177048119               Grit (personality trait)   \n",
       "2      1144494427                          Carnivalesque   \n",
       "3      1174405995                        Cardiac surgery   \n",
       "4      1161352014                         David Sterritt   \n",
       "...           ...                                    ...   \n",
       "5495   1138664372                 Discrimination testing   \n",
       "5496   1175506445                      Café des Artistes   \n",
       "5497   1170115037               Canal Street (Manhattan)   \n",
       "5498   1174616120        Ethylenediaminetetraacetic acid   \n",
       "5499   1176349314  Cuisine of the Southern United States   \n",
       "\n",
       "                                                summary  \\\n",
       "0     Crossdressing is the act of wearing clothes tr...   \n",
       "1     In psychology grit is a positive noncognitive ...   \n",
       "2     Carnivalesque is a literary mode that subverts...   \n",
       "3     Cardiac surgery or cardiovascular surgery is s...   \n",
       "4     David Sterritt born September 11 1944 is a fil...   \n",
       "...                                                 ...   \n",
       "5495  Discrimination testing is a technique employed...   \n",
       "5496  Café des Artistes was a fine restaurant at 1 W...   \n",
       "5497  Canal Street is a major eastwest street of ove...   \n",
       "5498  Ethylenediaminetetraacetic acid EDTA also call...   \n",
       "5499  The cuisine of the Southern United States enco...   \n",
       "\n",
       "                                                    url   topic  \\\n",
       "0          https://en.wikipedia.org/wiki/Cross-dressing  Health   \n",
       "1     https://en.wikipedia.org/wiki/Grit_(personalit...  Health   \n",
       "2           https://en.wikipedia.org/wiki/Carnivalesque  Health   \n",
       "3         https://en.wikipedia.org/wiki/Cardiac_surgery  Health   \n",
       "4          https://en.wikipedia.org/wiki/David_Sterritt  Health   \n",
       "...                                                 ...     ...   \n",
       "5495  https://en.wikipedia.org/wiki/Discrimination_t...    Food   \n",
       "5496  https://en.wikipedia.org/wiki/Caf%C3%A9_des_Ar...    Food   \n",
       "5497  https://en.wikipedia.org/wiki/Canal_Street_(Ma...    Food   \n",
       "5498  https://en.wikipedia.org/wiki/Ethylenediaminet...    Food   \n",
       "5499  https://en.wikipedia.org/wiki/Cuisine_of_the_S...    Food   \n",
       "\n",
       "                                                     s1  \n",
       "0     Crossdressing is the act of wearing clothes tr...  \n",
       "1     In psychology grit is a positive noncognitive ...  \n",
       "2     Carnivalesque is a literary mode that subverts...  \n",
       "3     Cardiac surgery or cardiovascular surgery is s...  \n",
       "4     David Sterritt born September 11 1944 is a fil...  \n",
       "...                                                 ...  \n",
       "5495  Discrimination testing is a technique employed...  \n",
       "5496  Caf des Artistes was a fine restaurant at 1 We...  \n",
       "5497  Canal Street is a major eastwest street of ove...  \n",
       "5498  Ethylenediaminetetraacetic acid EDTA also call...  \n",
       "5499  The cuisine of the Southern United States enco...  \n",
       "\n",
       "[5498 rows x 6 columns]"
      ]
     },
     "execution_count": 59,
     "metadata": {},
     "output_type": "execute_result"
    }
   ],
   "source": [
    "def remove_non_ascii_chars(text):\n",
    "    return ''.join([c if ord(c) < 128 or c.isspace() or c.isdigit() else '' for c in text])\n",
    "\n",
    "\n",
    "\n",
    "\n",
    "df['s1'] = df['summary'].apply(str).apply(remove_non_ascii_chars)\n",
    "df"
   ]
  },
  {
   "cell_type": "code",
   "execution_count": 60,
   "id": "6dde3ab8",
   "metadata": {
    "ExecuteTime": {
     "end_time": "2023-09-28T04:30:47.486027Z",
     "start_time": "2023-09-28T04:30:47.465938Z"
    }
   },
   "outputs": [
    {
     "data": {
      "text/html": [
       "<div>\n",
       "<style scoped>\n",
       "    .dataframe tbody tr th:only-of-type {\n",
       "        vertical-align: middle;\n",
       "    }\n",
       "\n",
       "    .dataframe tbody tr th {\n",
       "        vertical-align: top;\n",
       "    }\n",
       "\n",
       "    .dataframe thead th {\n",
       "        text-align: right;\n",
       "    }\n",
       "</style>\n",
       "<table border=\"1\" class=\"dataframe\">\n",
       "  <thead>\n",
       "    <tr style=\"text-align: right;\">\n",
       "      <th></th>\n",
       "      <th>summary</th>\n",
       "      <th>s1</th>\n",
       "    </tr>\n",
       "  </thead>\n",
       "  <tbody>\n",
       "    <tr>\n",
       "      <th>5</th>\n",
       "      <td>Malta   MOLtə  MAWLtə Maltese ˈmɐːltɐ official...</td>\n",
       "      <td>Malta   MOLt  MAWLt Maltese mlt officially the...</td>\n",
       "    </tr>\n",
       "  </tbody>\n",
       "</table>\n",
       "</div>"
      ],
      "text/plain": [
       "                                             summary  \\\n",
       "5  Malta   MOLtə  MAWLtə Maltese ˈmɐːltɐ official...   \n",
       "\n",
       "                                                  s1  \n",
       "5  Malta   MOLt  MAWLt Maltese mlt officially the...  "
      ]
     },
     "execution_count": 60,
     "metadata": {},
     "output_type": "execute_result"
    }
   ],
   "source": [
    "df[df['revision_id'] == 1177076134][['summary','s1']]"
   ]
  },
  {
   "cell_type": "code",
   "execution_count": 36,
   "id": "bf596cfe",
   "metadata": {
    "ExecuteTime": {
     "end_time": "2023-09-28T04:21:32.998764Z",
     "start_time": "2023-09-28T04:21:32.993238Z"
    }
   },
   "outputs": [],
   "source": [
    "import unicodedata\n"
   ]
  },
  {
   "cell_type": "code",
   "execution_count": 43,
   "id": "10b1bbb0",
   "metadata": {
    "ExecuteTime": {
     "end_time": "2023-09-28T04:23:11.432243Z",
     "start_time": "2023-09-28T04:23:11.417797Z"
    }
   },
   "outputs": [
    {
     "name": "stdout",
     "output_type": "stream",
     "text": [
      "                          Text\n",
      "0                 Hello, 123  \n",
      "1              How are you?   \n",
      "2  De  Chinese  pinyin d also \n"
     ]
    }
   ],
   "source": [
    "import pandas as pd\n",
    "\n",
    "# Sample DataFrame\n",
    "data = {'Text': ['Hello, 123 你好 こんにちは', 'How are you? Χαίρετε 你好 สวัสดี','De  Chinese 德 pinyin dé also ']}\n",
    "df = pd.DataFrame(data)\n",
    "\n",
    "# Function to remove non-ASCII characters\n",
    "def remove_non_ascii_chars(text):\n",
    "    return ''.join([c for c in text if ord(c) < 128])\n",
    "\n",
    "# Apply the function to the 'Text' column\n",
    "df['Text'] = df['Text'].apply(remove_non_ascii_chars)\n",
    "\n",
    "# Display the cleaned DataFrame\n",
    "print(df)\n"
   ]
  },
  {
   "cell_type": "code",
   "execution_count": null,
   "id": "007f24b7",
   "metadata": {},
   "outputs": [],
   "source": []
  }
 ],
 "metadata": {
  "hide_input": false,
  "kernelspec": {
   "display_name": "Python 3 (ipykernel)",
   "language": "python",
   "name": "python3"
  },
  "language_info": {
   "codemirror_mode": {
    "name": "ipython",
    "version": 3
   },
   "file_extension": ".py",
   "mimetype": "text/x-python",
   "name": "python",
   "nbconvert_exporter": "python",
   "pygments_lexer": "ipython3",
   "version": "3.9.18"
  },
  "toc": {
   "base_numbering": 1,
   "nav_menu": {},
   "number_sections": true,
   "sideBar": true,
   "skip_h1_title": false,
   "title_cell": "Table of Contents",
   "title_sidebar": "Contents",
   "toc_cell": false,
   "toc_position": {},
   "toc_section_display": true,
   "toc_window_display": false
  },
  "varInspector": {
   "cols": {
    "lenName": 16,
    "lenType": 16,
    "lenVar": 40
   },
   "kernels_config": {
    "python": {
     "delete_cmd_postfix": "",
     "delete_cmd_prefix": "del ",
     "library": "var_list.py",
     "varRefreshCmd": "print(var_dic_list())"
    },
    "r": {
     "delete_cmd_postfix": ") ",
     "delete_cmd_prefix": "rm(",
     "library": "var_list.r",
     "varRefreshCmd": "cat(var_dic_list()) "
    }
   },
   "types_to_exclude": [
    "module",
    "function",
    "builtin_function_or_method",
    "instance",
    "_Feature"
   ],
   "window_display": false
  }
 },
 "nbformat": 4,
 "nbformat_minor": 5
}
